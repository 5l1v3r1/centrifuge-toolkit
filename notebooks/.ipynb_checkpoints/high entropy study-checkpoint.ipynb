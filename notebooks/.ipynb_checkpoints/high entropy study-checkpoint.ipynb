{
 "cells": [
  {
   "cell_type": "code",
   "execution_count": 31,
   "metadata": {},
   "outputs": [],
   "source": [
    "import os\n",
    "import pickle\n",
    "import pandas as pd\n",
    "import matplotlib.pyplot as plt\n",
    "import seaborn as sns; sns.set()\n",
    "from tqdm import tqdm\n",
    "from scipy.stats import wasserstein_distance\n",
    "\n",
    "plt.rcParams['figure.figsize'] = [16, 9]"
   ]
  },
  {
   "cell_type": "code",
   "execution_count": 29,
   "metadata": {},
   "outputs": [
    {
     "data": {
      "image/png": "[encoded data removed]",
      "text/plain": [
       "<Figure size 1152x648 with 1 Axes>"
      ]
     },
     "metadata": {},
     "output_type": "display_data"
    }
   ],
   "source": [
    "max_entropy_reference_distribution = None\n",
    "with open(\"../centrifuge/distributions/data_types/max_entropy\", \"rb\") as f:\n",
    "    max_entropy_reference_distribution = pickle.load(f)\n",
    "    \n",
    "sns.distplot(max_entropy_reference_distribution, kde=False, bins=256)\n",
    "plt.show()"
   ]
  },
  {
   "cell_type": "code",
   "execution_count": 10,
   "metadata": {},
   "outputs": [],
   "source": [
    "def create_data_dict(path):\n",
    "    data_dict = {}\n",
    "    for file in tqdm(os.listdir(path)):\n",
    "        with open(path + file, \"rb\") as f:\n",
    "            data = list(f.read())\n",
    "            if len(data) >= 10000:\n",
    "                data_dict[file] = data\n",
    "                \n",
    "    return data_dict"
   ]
  },
  {
   "cell_type": "code",
   "execution_count": 11,
   "metadata": {},
   "outputs": [
    {
     "name": "stderr",
     "output_type": "stream",
     "text": [
      "100%|██████████| 5110/5110 [00:01<00:00, 2602.48it/s]\n"
     ]
    },
    {
     "data": {
      "text/plain": [
       "1787"
      ]
     },
     "execution_count": 11,
     "metadata": {},
     "output_type": "execute_result"
    }
   ],
   "source": [
    "encrypted_dict = create_data_dict(path + \"gpg_aes_encrypted/\")\n",
    "len(encrypted_dict.keys())"
   ]
  },
  {
   "cell_type": "code",
   "execution_count": 33,
   "metadata": {},
   "outputs": [],
   "source": [
    "encrypted_df = pd.DataFrame(index=list(encrypted_dict.keys()),\n",
    "                            columns=[\"wasserstein distance x100\"])\n",
    "\n",
    "for file, data in encrypted_dict.items():\n",
    "    encrypted_df.loc[file] = wasserstein_distance(max_entropy_reference_distribution,\n",
    "                                                   data) * 100"
   ]
  },
  {
   "cell_type": "code",
   "execution_count": 34,
   "metadata": {},
   "outputs": [
    {
     "data": {
      "text/html": [
       "<div>\n",
       "<style scoped>\n",
       "    .dataframe tbody tr th:only-of-type {\n",
       "        vertical-align: middle;\n",
       "    }\n",
       "\n",
       "    .dataframe tbody tr th {\n",
       "        vertical-align: top;\n",
       "    }\n",
       "\n",
       "    .dataframe thead th {\n",
       "        text-align: right;\n",
       "    }\n",
       "</style>\n",
       "<table border=\"1\" class=\"dataframe\">\n",
       "  <thead>\n",
       "    <tr style=\"text-align: right;\">\n",
       "      <th></th>\n",
       "      <th>wasserstein distance x100</th>\n",
       "    </tr>\n",
       "  </thead>\n",
       "  <tbody>\n",
       "    <tr>\n",
       "      <th>8e63ab658e2f179e3a084e64c3cb9c19.code.enc</th>\n",
       "      <td>31.6299</td>\n",
       "    </tr>\n",
       "    <tr>\n",
       "      <th>eb20dea0e6cc073f551950822ac27425.code.enc</th>\n",
       "      <td>46.1028</td>\n",
       "    </tr>\n",
       "    <tr>\n",
       "      <th>a62314028b9ee387f9934c7cd8f5c698.code.enc</th>\n",
       "      <td>76.1368</td>\n",
       "    </tr>\n",
       "    <tr>\n",
       "      <th>8c928e94e68c31efce7a727e8917bde6.code.enc</th>\n",
       "      <td>57.2832</td>\n",
       "    </tr>\n",
       "    <tr>\n",
       "      <th>a723e803e5ec9980dcf6df10f9c19c88.code.enc</th>\n",
       "      <td>81.2936</td>\n",
       "    </tr>\n",
       "    <tr>\n",
       "      <th>...</th>\n",
       "      <td>...</td>\n",
       "    </tr>\n",
       "    <tr>\n",
       "      <th>2bf11b2c177a88aabc9766e6fc1789ad.code.enc</th>\n",
       "      <td>73.6553</td>\n",
       "    </tr>\n",
       "    <tr>\n",
       "      <th>a61b6c82377c37ba8169ca458881d15f.code.enc</th>\n",
       "      <td>71.0247</td>\n",
       "    </tr>\n",
       "    <tr>\n",
       "      <th>1315a0b76c0ad2250238f4c65ebcb2c2.code.enc</th>\n",
       "      <td>27.0558</td>\n",
       "    </tr>\n",
       "    <tr>\n",
       "      <th>27b49142b6714a219fa6cee8994e45ce.code.enc</th>\n",
       "      <td>60.4306</td>\n",
       "    </tr>\n",
       "    <tr>\n",
       "      <th>2c55243c7813944d7e84f335ca013351.code.enc</th>\n",
       "      <td>29.8315</td>\n",
       "    </tr>\n",
       "  </tbody>\n",
       "</table>\n",
       "<p>1787 rows × 1 columns</p>\n",
       "</div>"
      ],
      "text/plain": [
       "                                          wasserstein distance x100\n",
       "8e63ab658e2f179e3a084e64c3cb9c19.code.enc                   31.6299\n",
       "eb20dea0e6cc073f551950822ac27425.code.enc                   46.1028\n",
       "a62314028b9ee387f9934c7cd8f5c698.code.enc                   76.1368\n",
       "8c928e94e68c31efce7a727e8917bde6.code.enc                   57.2832\n",
       "a723e803e5ec9980dcf6df10f9c19c88.code.enc                   81.2936\n",
       "...                                                             ...\n",
       "2bf11b2c177a88aabc9766e6fc1789ad.code.enc                   73.6553\n",
       "a61b6c82377c37ba8169ca458881d15f.code.enc                   71.0247\n",
       "1315a0b76c0ad2250238f4c65ebcb2c2.code.enc                   27.0558\n",
       "27b49142b6714a219fa6cee8994e45ce.code.enc                   60.4306\n",
       "2c55243c7813944d7e84f335ca013351.code.enc                   29.8315\n",
       "\n",
       "[1787 rows x 1 columns]"
      ]
     },
     "execution_count": 34,
     "metadata": {},
     "output_type": "execute_result"
    }
   ],
   "source": [
    "encrypted_df"
   ]
  },
  {
   "cell_type": "code",
   "execution_count": 45,
   "metadata": {},
   "outputs": [
    {
     "name": "stdout",
     "output_type": "stream",
     "text": [
      "mean:\t\t47.333342\n",
      "median:\t\t41.176854\n",
      "std dev.:\t27.476753\n"
     ]
    }
   ],
   "source": [
    "print(\"mean:\\t\\t%f\\nmedian:\\t\\t%f\\nstd dev.:\\t%f\" % (encrypted_df[\"wasserstein distance x100\"].mean(),\n",
    "                                                     encrypted_df[\"wasserstein distance x100\"].median(),\n",
    "                                                     encrypted_df[\"wasserstein distance x100\"].std()))"
   ]
  },
  {
   "cell_type": "markdown",
   "metadata": {},
   "source": [
    "<hr>\n",
    "<h2>LZMA max compression</h2>"
   ]
  },
  {
   "cell_type": "code",
   "execution_count": 13,
   "metadata": {},
   "outputs": [
    {
     "name": "stderr",
     "output_type": "stream",
     "text": [
      "100%|██████████| 5109/5109 [00:01<00:00, 3424.16it/s]\n"
     ]
    },
    {
     "data": {
      "text/plain": [
       "1696"
      ]
     },
     "execution_count": 13,
     "metadata": {},
     "output_type": "execute_result"
    }
   ],
   "source": [
    "lzma_dict = create_data_dict(path + \"lzma_max_compression/\")\n",
    "len(lzma_dict.keys())"
   ]
  },
  {
   "cell_type": "code",
   "execution_count": 46,
   "metadata": {},
   "outputs": [],
   "source": [
    "lzma_df = pd.DataFrame(index=list(lzma_dict.keys()),\n",
    "                            columns=[\"wasserstein distance x100\"])\n",
    "\n",
    "for file, data in lzma_dict.items():\n",
    "    lzma_df.loc[file] = wasserstein_distance(max_entropy_reference_distribution,\n",
    "                                                   data) * 100"
   ]
  },
  {
   "cell_type": "code",
   "execution_count": 47,
   "metadata": {},
   "outputs": [
    {
     "name": "stdout",
     "output_type": "stream",
     "text": [
      "mean:\t\t49.697950\n",
      "median:\t\t43.486577\n",
      "std dev.:\t27.966870\n"
     ]
    }
   ],
   "source": [
    "print(\"mean:\\t\\t%f\\nmedian:\\t\\t%f\\nstd dev.:\\t%f\" % (lzma_df[\"wasserstein distance x100\"].mean(),\n",
    "                                                     lzma_df[\"wasserstein distance x100\"].median(),\n",
    "                                                     lzma_df[\"wasserstein distance x100\"].std()))"
   ]
  },
  {
   "cell_type": "markdown",
   "metadata": {},
   "source": [
    "<hr>\n",
    "<h2>gzip</h2>"
   ]
  },
  {
   "cell_type": "code",
   "execution_count": 15,
   "metadata": {},
   "outputs": [
    {
     "name": "stderr",
     "output_type": "stream",
     "text": [
      "100%|██████████| 5109/5109 [00:01<00:00, 2630.76it/s]\n"
     ]
    },
    {
     "data": {
      "text/plain": [
       "1775"
      ]
     },
     "execution_count": 15,
     "metadata": {},
     "output_type": "execute_result"
    }
   ],
   "source": [
    "gzip_dict = create_data_dict(path + \"gzip/\")\n",
    "len(gzip_dict.keys())"
   ]
  },
  {
   "cell_type": "code",
   "execution_count": 50,
   "metadata": {},
   "outputs": [],
   "source": [
    "gzip_df = pd.DataFrame(index=list(gzip_dict.keys()),\n",
    "                            columns=[\"wasserstein distance x100\"])\n",
    "\n",
    "for file, data in gzip_dict.items():\n",
    "    gzip_df.loc[file] = wasserstein_distance(max_entropy_reference_distribution,\n",
    "                                                   data) * 100"
   ]
  },
  {
   "cell_type": "code",
   "execution_count": 51,
   "metadata": {},
   "outputs": [
    {
     "name": "stdout",
     "output_type": "stream",
     "text": [
      "mean:\t\t271.648120\n",
      "median:\t\t254.085184\n",
      "std dev.:\t131.761251\n"
     ]
    }
   ],
   "source": [
    "print(\"mean:\\t\\t%f\\nmedian:\\t\\t%f\\nstd dev.:\\t%f\" % (gzip_df[\"wasserstein distance x100\"].mean(),\n",
    "                                                     gzip_df[\"wasserstein distance x100\"].median(),\n",
    "                                                     gzip_df[\"wasserstein distance x100\"].std()))"
   ]
  },
  {
   "cell_type": "code",
   "execution_count": 57,
   "metadata": {},
   "outputs": [
    {
     "data": {
      "text/plain": [
       "(0, 250)"
      ]
     },
     "execution_count": 57,
     "metadata": {},
     "output_type": "execute_result"
    },
    {
     "data": {
      "image/png": "[encoded data removed]",
      "text/plain": [
       "<Figure size 1152x648 with 1 Axes>"
      ]
     },
     "metadata": {},
     "output_type": "display_data"
    }
   ],
   "source": [
    "sns.boxplot(x=\"wasserstein distance x100\", data=encrypted_df)\n",
    "plt.xlim(0,250)"
   ]
  },
  {
   "cell_type": "code",
   "execution_count": 56,
   "metadata": {},
   "outputs": [
    {
     "data": {
      "text/plain": [
       "(0, 250)"
      ]
     },
     "execution_count": 56,
     "metadata": {},
     "output_type": "execute_result"
    },
    {
     "data": {
      "image/png": "[encoded data removed]",
      "text/plain": [
       "<Figure size 1152x648 with 1 Axes>"
      ]
     },
     "metadata": {},
     "output_type": "display_data"
    }
   ],
   "source": [
    "sns.boxplot(x=\"wasserstein distance x100\", data=lzma_df)\n",
    "plt.xlim(0,250)"
   ]
  },
  {
   "cell_type": "code",
   "execution_count": 59,
   "metadata": {},
   "outputs": [
    {
     "data": {
      "text/plain": [
       "<matplotlib.axes._subplots.AxesSubplot at 0x7f8595a931d0>"
      ]
     },
     "execution_count": 59,
     "metadata": {},
     "output_type": "execute_result"
    },
    {
     "data": {
      "image/png": "[encoded data removed]",
      "text/plain": [
       "<Figure size 1152x648 with 1 Axes>"
      ]
     },
     "metadata": {},
     "output_type": "display_data"
    }
   ],
   "source": [
    "sns.boxplot(x=\"wasserstein distance x100\", data=gzip_df)\n",
    "#plt.xlim(0,250)"
   ]
  },
  {
   "cell_type": "code",
   "execution_count": null,
   "metadata": {},
   "outputs": [],
   "source": []
  }
 ],
 "metadata": {
  "kernelspec": {
   "display_name": "Python 3",
   "language": "python",
   "name": "python3"
  },
  "language_info": {
   "codemirror_mode": {
    "name": "ipython",
    "version": 3
   },
   "file_extension": ".py",
   "mimetype": "text/x-python",
   "name": "python",
   "nbconvert_exporter": "python",
   "pygments_lexer": "ipython3",
   "version": "3.7.6"
  }
 },
 "nbformat": 4,
 "nbformat_minor": 2
}
